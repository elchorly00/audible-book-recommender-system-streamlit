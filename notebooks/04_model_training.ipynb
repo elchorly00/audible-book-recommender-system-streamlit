{
 "cells": [
  {
   "cell_type": "code",
   "execution_count": 1,
   "id": "ef927343",
   "metadata": {},
   "outputs": [
    {
     "name": "stdout",
     "output_type": "stream",
     "text": [
      "                                           Book Name          Author  Rating  \\\n",
      "0  Think Like a Monk: The Secret of How to Harnes...      Jay Shetty     4.9   \n",
      "1  Ikigai: The Japanese Secret to a Long and Happ...   Héctor García     4.6   \n",
      "2  The Subtle Art of Not Giving a F*ck: A Counter...     Mark Manson     4.4   \n",
      "3  Atomic Habits: An Easy and Proven Way to Build...     James Clear     4.6   \n",
      "4  Life's Amazing Secrets: How to Find Balance an...  Gaur Gopal Das     4.6   \n",
      "\n",
      "   Number of Reviews    Price  \\\n",
      "0              313.0  10080.0   \n",
      "1             3658.0    615.0   \n",
      "2            15838.8  10378.0   \n",
      "3             4614.0    888.0   \n",
      "4             4302.0   1005.0   \n",
      "\n",
      "                                         Description  \\\n",
      "0  over the past three years, jay shetty has beco...   \n",
      "1                         brought to you by penguin.   \n",
      "2  in this generation-defining self-help guide, a...   \n",
      "3                         brought to you by penguin.   \n",
      "4  stop going through life,  start growing throug...   \n",
      "\n",
      "   Listening Time (minutes)             Genre  Rank  \\\n",
      "0                     654.0  Personal Success     1   \n",
      "1                     203.0        Meditation     1   \n",
      "2                     317.0  Personal Success     3   \n",
      "3                     335.0        Psychology     1   \n",
      "4                     385.0   Literary Essays     1   \n",
      "\n",
      "                                       combined_text  \\\n",
      "0  Think Like a Monk: The Secret of How to Harnes...   \n",
      "1  Ikigai: The Japanese Secret to a Long and Happ...   \n",
      "2  The Subtle Art of Not Giving a F*ck: A Counter...   \n",
      "3  Atomic Habits: An Easy and Proven Way to Build...   \n",
      "4  Life's Amazing Secrets: How to Find Balance an...   \n",
      "\n",
      "                                        cleaned_text  cluster  \n",
      "0  think like monk secret harness power positivit...        3  \n",
      "1  ikigai japanese secret long happy life brought...        0  \n",
      "2  subtle art giving fck counterintuitive approac...        3  \n",
      "3  atomic habit easy proven way build good habit ...        0  \n",
      "4  life amazing secret find balance purpose life ...        3  \n",
      "<class 'pandas.core.frame.DataFrame'>\n",
      "RangeIndex: 3025 entries, 0 to 3024\n",
      "Data columns (total 12 columns):\n",
      " #   Column                    Non-Null Count  Dtype  \n",
      "---  ------                    --------------  -----  \n",
      " 0   Book Name                 3025 non-null   object \n",
      " 1   Author                    3025 non-null   object \n",
      " 2   Rating                    3025 non-null   float64\n",
      " 3   Number of Reviews         3025 non-null   float64\n",
      " 4   Price                     3025 non-null   float64\n",
      " 5   Description               3025 non-null   object \n",
      " 6   Listening Time (minutes)  3025 non-null   float64\n",
      " 7   Genre                     3025 non-null   object \n",
      " 8   Rank                      3025 non-null   int64  \n",
      " 9   combined_text             3025 non-null   object \n",
      " 10  cleaned_text              3025 non-null   object \n",
      " 11  cluster                   3025 non-null   int64  \n",
      "dtypes: float64(4), int64(2), object(6)\n",
      "memory usage: 283.7+ KB\n",
      "None\n"
     ]
    }
   ],
   "source": [
    "import pandas as pd \n",
    "df=pd.read_csv(r\"/Users/priyankamalavade/Desktop/BRS/data/cleaned_clustered_books.csv\")\n",
    "print(df.head())\n",
    "print(df.info())"
   ]
  },
  {
   "cell_type": "markdown",
   "id": "bf6ce226",
   "metadata": {},
   "source": [
    "# Content based recommendation"
   ]
  },
  {
   "cell_type": "code",
   "execution_count": 2,
   "id": "eeb1478a",
   "metadata": {},
   "outputs": [],
   "source": [
    "from sklearn.feature_extraction.text import TfidfVectorizer\n",
    "from sklearn.metrics.pairwise import cosine_similarity\n",
    "import numpy as np\n",
    "import joblib"
   ]
  },
  {
   "cell_type": "code",
   "execution_count": 3,
   "id": "255d6e07",
   "metadata": {},
   "outputs": [],
   "source": [
    "# Step 1: TF-IDF Vectorization on 'cleaned_text'\n",
    "tfidf = TfidfVectorizer(stop_words='english')\n",
    "tfidf_matrix = tfidf.fit_transform(df['cleaned_text'])"
   ]
  },
  {
   "cell_type": "code",
   "execution_count": 4,
   "id": "ee510e7b",
   "metadata": {},
   "outputs": [],
   "source": [
    "# Step 2: Compute Cosine Similarity\n",
    "cosine_sim = cosine_similarity(tfidf_matrix, tfidf_matrix)\n"
   ]
  },
  {
   "cell_type": "code",
   "execution_count": 5,
   "id": "dfc155b8",
   "metadata": {},
   "outputs": [],
   "source": [
    "# Step 3: Create a mapping from book name to index\n",
    "book_indices = pd.Series(df.index, index=df['Book Name']).drop_duplicates()\n"
   ]
  },
  {
   "cell_type": "code",
   "execution_count": 6,
   "id": "9c99d476",
   "metadata": {},
   "outputs": [
    {
     "data": {
      "text/plain": [
       "['/Users/priyankamalavade/Desktop/BRS/streamlit_app/model/cosine_similarity_matrix.pkl']"
      ]
     },
     "execution_count": 6,
     "metadata": {},
     "output_type": "execute_result"
    }
   ],
   "source": [
    "# Save TF-IDF and cosine similarity for deployment\n",
    "joblib.dump(tfidf, '/Users/priyankamalavade/Desktop/BRS/streamlit_app/model/tfidf_vectorizer.pkl')\n",
    "joblib.dump(cosine_sim, '/Users/priyankamalavade/Desktop/BRS/streamlit_app/model/cosine_similarity_matrix.pkl')\n"
   ]
  },
  {
   "cell_type": "code",
   "execution_count": 7,
   "id": "e32fb5ec",
   "metadata": {},
   "outputs": [],
   "source": [
    "# Recommendation function\n",
    "def get_content_based_recommendations(title, top_n=5):\n",
    "    idx = book_indices.get(title)\n",
    "    if idx is None:\n",
    "        return \"Book not found.\"\n",
    "    sim_scores = list(enumerate(cosine_sim[idx]))\n",
    "    sim_scores = sorted(sim_scores, key=lambda x: x[1], reverse=True)[1:top_n+1]\n",
    "    book_indices_top = [i[0] for i in sim_scores]\n",
    "    return df[['Book Name', 'Author', 'Genre']].iloc[book_indices_top]\n"
   ]
  },
  {
   "cell_type": "code",
   "execution_count": 8,
   "id": "643b15fe",
   "metadata": {},
   "outputs": [
    {
     "data": {
      "text/html": [
       "<div>\n",
       "<style scoped>\n",
       "    .dataframe tbody tr th:only-of-type {\n",
       "        vertical-align: middle;\n",
       "    }\n",
       "\n",
       "    .dataframe tbody tr th {\n",
       "        vertical-align: top;\n",
       "    }\n",
       "\n",
       "    .dataframe thead th {\n",
       "        text-align: right;\n",
       "    }\n",
       "</style>\n",
       "<table border=\"1\" class=\"dataframe\">\n",
       "  <thead>\n",
       "    <tr style=\"text-align: right;\">\n",
       "      <th></th>\n",
       "      <th>Book Name</th>\n",
       "      <th>Author</th>\n",
       "      <th>Genre</th>\n",
       "    </tr>\n",
       "  </thead>\n",
       "  <tbody>\n",
       "    <tr>\n",
       "      <th>1137</th>\n",
       "      <td>The Facebook Effect: The Inside Story of the C...</td>\n",
       "      <td>David Kirkpatrick</td>\n",
       "      <td>Social Media</td>\n",
       "    </tr>\n",
       "    <tr>\n",
       "      <th>2729</th>\n",
       "      <td>One Million Followers: How I Built a Massive S...</td>\n",
       "      <td>Brendan Kane</td>\n",
       "      <td>Religion &amp; Philosophy</td>\n",
       "    </tr>\n",
       "    <tr>\n",
       "      <th>1657</th>\n",
       "      <td>The Simulation Hypothesis: An MIT Computer Sci...</td>\n",
       "      <td>Rizwan Virk</td>\n",
       "      <td>Cybernetics</td>\n",
       "    </tr>\n",
       "    <tr>\n",
       "      <th>839</th>\n",
       "      <td>Social Media Marketing Workbook 2020</td>\n",
       "      <td>Jason McDonald PhD</td>\n",
       "      <td>Social Media</td>\n",
       "    </tr>\n",
       "    <tr>\n",
       "      <th>1387</th>\n",
       "      <td>Social Media Marketing 2020 Mastery 4 Books Bu...</td>\n",
       "      <td>Brandon J. Artley</td>\n",
       "      <td>Compulsive Disorders</td>\n",
       "    </tr>\n",
       "  </tbody>\n",
       "</table>\n",
       "</div>"
      ],
      "text/plain": [
       "                                              Book Name              Author  \\\n",
       "1137  The Facebook Effect: The Inside Story of the C...   David Kirkpatrick   \n",
       "2729  One Million Followers: How I Built a Massive S...        Brendan Kane   \n",
       "1657  The Simulation Hypothesis: An MIT Computer Sci...         Rizwan Virk   \n",
       "839                Social Media Marketing Workbook 2020  Jason McDonald PhD   \n",
       "1387  Social Media Marketing 2020 Mastery 4 Books Bu...   Brandon J. Artley   \n",
       "\n",
       "                      Genre  \n",
       "1137           Social Media  \n",
       "2729  Religion & Philosophy  \n",
       "1657            Cybernetics  \n",
       "839            Social Media  \n",
       "1387   Compulsive Disorders  "
      ]
     },
     "execution_count": 8,
     "metadata": {},
     "output_type": "execute_result"
    }
   ],
   "source": [
    "# Example usage\n",
    "recommendations = get_content_based_recommendations(\"Think Like a Monk: The Secret of How to Harness the Power of Positivity and Be Happy Now\")\n",
    "recommendations"
   ]
  },
  {
   "cell_type": "markdown",
   "id": "9e9998e9",
   "metadata": {},
   "source": [
    "# Clustering-Based recommendation"
   ]
  },
  {
   "cell_type": "code",
   "execution_count": null,
   "id": "e3ba51cb",
   "metadata": {},
   "outputs": [],
   "source": [
    "\n",
    "# Create mapping of book names to their cluster\n",
    "cluster_map = df.set_index('Book Name')['cluster'].to_dict()"
   ]
  },
  {
   "cell_type": "code",
   "execution_count": 10,
   "id": "337b6d80",
   "metadata": {},
   "outputs": [],
   "source": [
    "# Define recommendation function\n",
    "def get_cluster_based_recommendations(book_title, top_n=5):\n",
    "    if book_title not in cluster_map:\n",
    "        return \"Book not found.\"\n",
    "    \n",
    "    cluster_id = cluster_map[book_title]\n",
    "    cluster_books = df[df['cluster'] == cluster_id]\n",
    "    \n",
    "    # Exclude the input book from recommendations\n",
    "    recommendations = cluster_books[cluster_books['Book Name'] != book_title]\n",
    "    \n",
    "    return recommendations[['Book Name', 'Author', 'Genre']].head(top_n)\n"
   ]
  },
  {
   "cell_type": "code",
   "execution_count": 11,
   "id": "1065571f",
   "metadata": {},
   "outputs": [
    {
     "data": {
      "text/html": [
       "<div>\n",
       "<style scoped>\n",
       "    .dataframe tbody tr th:only-of-type {\n",
       "        vertical-align: middle;\n",
       "    }\n",
       "\n",
       "    .dataframe tbody tr th {\n",
       "        vertical-align: top;\n",
       "    }\n",
       "\n",
       "    .dataframe thead th {\n",
       "        text-align: right;\n",
       "    }\n",
       "</style>\n",
       "<table border=\"1\" class=\"dataframe\">\n",
       "  <thead>\n",
       "    <tr style=\"text-align: right;\">\n",
       "      <th></th>\n",
       "      <th>Book Name</th>\n",
       "      <th>Author</th>\n",
       "      <th>Genre</th>\n",
       "    </tr>\n",
       "  </thead>\n",
       "  <tbody>\n",
       "    <tr>\n",
       "      <th>2</th>\n",
       "      <td>The Subtle Art of Not Giving a F*ck: A Counter...</td>\n",
       "      <td>Mark Manson</td>\n",
       "      <td>Personal Success</td>\n",
       "    </tr>\n",
       "    <tr>\n",
       "      <th>4</th>\n",
       "      <td>Life's Amazing Secrets: How to Find Balance an...</td>\n",
       "      <td>Gaur Gopal Das</td>\n",
       "      <td>Literary Essays</td>\n",
       "    </tr>\n",
       "    <tr>\n",
       "      <th>6</th>\n",
       "      <td>Sapiens</td>\n",
       "      <td>Yuval Noah Harari</td>\n",
       "      <td>Anthropology</td>\n",
       "    </tr>\n",
       "    <tr>\n",
       "      <th>7</th>\n",
       "      <td>The Intelligent Investor Rev Ed.</td>\n",
       "      <td>Benjamin Graham</td>\n",
       "      <td>Personal Finance</td>\n",
       "    </tr>\n",
       "    <tr>\n",
       "      <th>8</th>\n",
       "      <td>Rich Dad Poor Dad: What the Rich Teach Their K...</td>\n",
       "      <td>Robert T. Kiyosaki</td>\n",
       "      <td>Personal Finance</td>\n",
       "    </tr>\n",
       "  </tbody>\n",
       "</table>\n",
       "</div>"
      ],
      "text/plain": [
       "                                           Book Name              Author  \\\n",
       "2  The Subtle Art of Not Giving a F*ck: A Counter...         Mark Manson   \n",
       "4  Life's Amazing Secrets: How to Find Balance an...      Gaur Gopal Das   \n",
       "6                                            Sapiens   Yuval Noah Harari   \n",
       "7                   The Intelligent Investor Rev Ed.     Benjamin Graham   \n",
       "8  Rich Dad Poor Dad: What the Rich Teach Their K...  Robert T. Kiyosaki   \n",
       "\n",
       "              Genre  \n",
       "2  Personal Success  \n",
       "4   Literary Essays  \n",
       "6      Anthropology  \n",
       "7  Personal Finance  \n",
       "8  Personal Finance  "
      ]
     },
     "execution_count": 11,
     "metadata": {},
     "output_type": "execute_result"
    }
   ],
   "source": [
    "# Example usage\n",
    "book_title = \"Think Like a Monk: The Secret of How to Harness the Power of Positivity and Be Happy Now\"\n",
    "get_cluster_based_recommendations(book_title)"
   ]
  },
  {
   "cell_type": "markdown",
   "id": "5900ccf3",
   "metadata": {},
   "source": [
    "# Hybrid based recommendation"
   ]
  },
  {
   "cell_type": "code",
   "execution_count": 12,
   "id": "63fe9d08",
   "metadata": {},
   "outputs": [],
   "source": [
    "def get_hybrid_recommendations(title, top_n=5):\n",
    "    idx = book_indices.get(title)\n",
    "    if idx is None:\n",
    "        return \"Book not found.\"\n",
    "    \n",
    "    # Step 1: Content-based similarity\n",
    "    sim_scores = list(enumerate(cosine_sim[idx]))\n",
    "    sim_scores = sorted(sim_scores, key=lambda x: x[1], reverse=True)[1:]  # Skip self\n",
    "\n",
    "    # Step 2: Fetch books from same cluster\n",
    "    input_cluster = df.loc[idx, 'cluster']\n",
    "\n",
    "    # Step 3: Score boost based on cluster match and rating\n",
    "    recommendations = []\n",
    "    for i, sim in sim_scores:\n",
    "        cluster_score = 1.2 if df.loc[i, 'cluster'] == input_cluster else 1.0\n",
    "        rating_score = df.loc[i, 'Rating']\n",
    "        final_score = sim * cluster_score * rating_score\n",
    "        recommendations.append((i, final_score))\n",
    "\n",
    "    # Step 4: Sort and return top N\n",
    "    top_recommendations = sorted(recommendations, key=lambda x: x[1], reverse=True)[:top_n]\n",
    "    top_indices = [i[0] for i in top_recommendations]\n",
    "    return df[['Book Name', 'Author', 'Genre', 'Rating']].iloc[top_indices]\n"
   ]
  },
  {
   "cell_type": "code",
   "execution_count": 13,
   "id": "705cae2a",
   "metadata": {},
   "outputs": [
    {
     "data": {
      "text/html": [
       "<div>\n",
       "<style scoped>\n",
       "    .dataframe tbody tr th:only-of-type {\n",
       "        vertical-align: middle;\n",
       "    }\n",
       "\n",
       "    .dataframe tbody tr th {\n",
       "        vertical-align: top;\n",
       "    }\n",
       "\n",
       "    .dataframe thead th {\n",
       "        text-align: right;\n",
       "    }\n",
       "</style>\n",
       "<table border=\"1\" class=\"dataframe\">\n",
       "  <thead>\n",
       "    <tr style=\"text-align: right;\">\n",
       "      <th></th>\n",
       "      <th>Book Name</th>\n",
       "      <th>Author</th>\n",
       "      <th>Genre</th>\n",
       "      <th>Rating</th>\n",
       "    </tr>\n",
       "  </thead>\n",
       "  <tbody>\n",
       "    <tr>\n",
       "      <th>1137</th>\n",
       "      <td>The Facebook Effect: The Inside Story of the C...</td>\n",
       "      <td>David Kirkpatrick</td>\n",
       "      <td>Social Media</td>\n",
       "      <td>4.4</td>\n",
       "    </tr>\n",
       "    <tr>\n",
       "      <th>839</th>\n",
       "      <td>Social Media Marketing Workbook 2020</td>\n",
       "      <td>Jason McDonald PhD</td>\n",
       "      <td>Social Media</td>\n",
       "      <td>4.5</td>\n",
       "    </tr>\n",
       "    <tr>\n",
       "      <th>1657</th>\n",
       "      <td>The Simulation Hypothesis: An MIT Computer Sci...</td>\n",
       "      <td>Rizwan Virk</td>\n",
       "      <td>Cybernetics</td>\n",
       "      <td>4.4</td>\n",
       "    </tr>\n",
       "    <tr>\n",
       "      <th>2729</th>\n",
       "      <td>One Million Followers: How I Built a Massive S...</td>\n",
       "      <td>Brendan Kane</td>\n",
       "      <td>Religion &amp; Philosophy</td>\n",
       "      <td>4.3</td>\n",
       "    </tr>\n",
       "    <tr>\n",
       "      <th>2307</th>\n",
       "      <td>Built to Serve: Find Your Purpose and Become t...</td>\n",
       "      <td>Evan Carmichael</td>\n",
       "      <td>Fiction Sagas</td>\n",
       "      <td>4.8</td>\n",
       "    </tr>\n",
       "  </tbody>\n",
       "</table>\n",
       "</div>"
      ],
      "text/plain": [
       "                                              Book Name              Author  \\\n",
       "1137  The Facebook Effect: The Inside Story of the C...   David Kirkpatrick   \n",
       "839                Social Media Marketing Workbook 2020  Jason McDonald PhD   \n",
       "1657  The Simulation Hypothesis: An MIT Computer Sci...         Rizwan Virk   \n",
       "2729  One Million Followers: How I Built a Massive S...        Brendan Kane   \n",
       "2307  Built to Serve: Find Your Purpose and Become t...     Evan Carmichael   \n",
       "\n",
       "                      Genre  Rating  \n",
       "1137           Social Media     4.4  \n",
       "839            Social Media     4.5  \n",
       "1657            Cybernetics     4.4  \n",
       "2729  Religion & Philosophy     4.3  \n",
       "2307          Fiction Sagas     4.8  "
      ]
     },
     "execution_count": 13,
     "metadata": {},
     "output_type": "execute_result"
    }
   ],
   "source": [
    "# Example usage\n",
    "get_hybrid_recommendations(\"Think Like a Monk: The Secret of How to Harness the Power of Positivity and Be Happy Now\")"
   ]
  }
 ],
 "metadata": {
  "kernelspec": {
   "display_name": "venv",
   "language": "python",
   "name": "python3"
  },
  "language_info": {
   "codemirror_mode": {
    "name": "ipython",
    "version": 3
   },
   "file_extension": ".py",
   "mimetype": "text/x-python",
   "name": "python",
   "nbconvert_exporter": "python",
   "pygments_lexer": "ipython3",
   "version": "3.10.9"
  }
 },
 "nbformat": 4,
 "nbformat_minor": 5
}
